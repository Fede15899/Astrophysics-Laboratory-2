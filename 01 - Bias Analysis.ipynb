{
 "cells": [
  {
   "cell_type": "code",
   "execution_count": 2,
   "metadata": {},
   "outputs": [],
   "source": [
    "import numpy as np\n",
    "import matplotlib.pyplot as plt\n",
    "%matplotlib widget\n",
    "from astropy.io import fits"
   ]
  },
  {
   "cell_type": "markdown",
   "metadata": {},
   "source": [
    "Write the FITS list files for each subdirectory (bias, flat, science) of the group10_WASP-135_20190803 folder. The goal is to creat a list containing all the files names so that we can access them easily."
   ]
  },
  {
   "cell_type": "code",
   "execution_count": 3,
   "metadata": {},
   "outputs": [
    {
     "name": "stdout",
     "output_type": "stream",
     "text": [
      "['AF560570.fits' 'AF560571.fits' 'AF560572.fits' 'AF560573.fits'\n",
      " 'AF560574.fits' 'AF560575.fits' 'AF560576.fits' 'AF560577.fits'\n",
      " 'AF560578.fits' 'AF560579.fits' 'AF560580.fits' 'AF560581.fits'\n",
      " 'AF560582.fits' 'AF560583.fits' 'AF560584.fits' 'AF560585.fits'\n",
      " 'AF560586.fits' 'AF560587.fits' 'AF560588.fits' 'AF560589.fits'\n",
      " 'AF560590.fits' 'AF560591.fits' 'AF560592.fits' 'AF560593.fits'\n",
      " 'AF560594.fits' 'AF560595.fits' 'AF560596.fits' 'AF560597.fits'\n",
      " 'AF560598.fits' 'AF560599.fits']\n"
     ]
    }
   ],
   "source": [
    "bias_list = np.genfromtxt('./group10_WASP-135_20190803/bias/bias.list', dtype=str)\n",
    "print(bias_list)"
   ]
  },
  {
   "cell_type": "markdown",
   "metadata": {},
   "source": [
    "### Extract information from a FITS file\n",
    "We now open a single FITS file ($\\texttt{bias\\_list[0]}$, so the first bias file), we store its primary HDU into a variable and we print the header with. All of this is accomplished through $\\texttt{astropy.io.fits}$ methods."
   ]
  },
  {
   "cell_type": "code",
   "execution_count": 6,
   "metadata": {},
   "outputs": [
    {
     "data": {
      "text/plain": [
       "SIMPLE  =                    T / file does conform to FITS standard             \n",
       "BITPIX  =                   16 / number of bits per data pixel                  \n",
       "NAXIS   =                    2 / number of data axes                            \n",
       "NAXIS1  =                  521 / length of data axis 1                          \n",
       "NAXIS2  =                  119 / length of data axis 2                          \n",
       "EXTEND  =                    T / FITS dataset may contain extensions            \n",
       "COMMENT   FITS (Flexible Image Transport System) format is defined in 'Astronomy\n",
       "COMMENT   and Astrophysics', volume 376, page 359; bibcode: 2001A&A...376..359H \n",
       "BZERO   =                32768 / offset data range to that of unsigned short    \n",
       "BSCALE  =                    1 / default scaling factor                         \n",
       "DATE    = '2019-08-03T23:24:16' / file creation date (YYYY-MM-DDThh:mm:ss UT)   \n",
       "FILENAME= 'AF560570.fits'      / Original file name                             \n",
       "TIMESYS = 'UTC     '                                                            \n",
       "DATE-OBS= '2019-08-03T23:24:16.0' / UTC date at start of exposure               \n",
       "JD      =       2458699.475185 / JD at start                                    \n",
       "MJD     =         58698.975185 / MJD at start                                   \n",
       "EXPTIME =                 0.00 / [s] Exposure time                              \n",
       "CCD-TEMP=                -95.5 / CCD temperature (Celsius) at start of exposure \n",
       "SET-TEMP=                -95.0 / CCD setpoint temperature (Celsius)             \n",
       "IMAGETYP= 'Bias    '                                                            \n",
       "OBJECT  = 'wasp-135 bias'                                                       \n",
       "OBSERVER= 'Nascimbeni'                                                          \n",
       "PROGRAM = 'Nascimbeni'         / Program name                                   \n",
       "FILTER  = 'r-Sloan '           / Filter Wheel position 6                        \n",
       "GRAT_TYP= 'NONE    '           / Grism Wheel position 1                         \n",
       "SLIT    = 'NONE    '           / Aperture Wheel position 1                      \n",
       "LAMP    = 'NO      '                                                            \n",
       "CAMERA  =                42224 / Actual Camera focus position                   \n",
       "FOCUSOFF=                -2980 / Filter focus offset                            \n",
       "ROTANGLE=                -80.0 / [deg] Telescope flange rotation angle          \n",
       "LTM1_1  =                0.250                                                  \n",
       "LTM2_2  =                0.250                                                  \n",
       "LTV1    =                   -1                                                  \n",
       "LTV2    =                -1023                                                  \n",
       "X-START =                    2 / physical windowing X start pixel               \n",
       "Y-START =                 1024 / physical windowing Y start pixel               \n",
       "X-STOP  =                 2085 / physical windowing X stop pixel                \n",
       "Y-STOP  =                 1499 / physical windowing Y stop pixel                \n",
       "APPOS   =                    0 / Aperture wheel position                        \n",
       "FLPOS   =               200000 / Filter wheel position                          \n",
       "GRPOS   =                    0 / Grism wheel position                           \n",
       "ORIGIN  = 'Asiago Astronomical Observatory'                                     \n",
       "TELESCOP= '1.82m Reflector'                                                     \n",
       "INSTRUME= 'AFOSC + Andor iKon-L DZ936N-BEX2-DD-9HF'                             \n",
       "DETECTOR= 'E2V CCD42-40 DD'                                                     \n",
       "BINX    =                    4 / Horizontal Binning factor used                 \n",
       "BINY    =                    4 / Vertical Binning factor used                   \n",
       "GAIN    =                 1.91 / [e/ADU] CCD Camera gain                        \n",
       "RDNOISE =                 7.10 / [e] CCD Camera readout noise                   \n",
       "CCDSCALE=                 0.25 / [arcsec/px] unbinned CCD camera scale          \n",
       "SITETYPE= 'GEODETIC'                                                            \n",
       "SITESYS = 'WGS84   '                                                            \n",
       "SITELAT =           45.8485832 / [deg] Telescope latitude, N45:50:54.894        \n",
       "SITELONG=           11.5689993 / [deg] Telescope longitude, E11:34:08.397       \n",
       "SITEELEV=               1376.2 / [m] Telescope height above sea level           \n",
       "HSSPEED =                    2 / 1 MHz CCD sensor horizontal shift speed        \n",
       "OUTMODE =                    0 / High Sensitivity CCD sensor output mode        \n",
       "PREAMP  =                    1 / x2 CCD sensor preamplifier gain                \n",
       "HJD     =       2458699.477704 / Heliocentric Julian Date at middle of exposure \n",
       "EQUINOX =                2000.                                                  \n",
       "RADESYS = 'FK5     '                                                            \n",
       "LST     = '20:59:30.7'         / Local sideral time at start                    \n",
       "HA      = '+03:09:32'          / Telescope HA at start                          \n",
       "RA      = '17:49:12.80'        / Telescope RA (J2000.0)                         \n",
       "DEC     = '+29:52:53'          / Telescope DEC (J2000.0)                        \n",
       "ALTITUDE=             50.04117 / [deg] Telescope altitude at start              \n",
       "AZIMUTH =             83.36689 / [deg] Telescope azimuth at start               \n",
       "AIRMASS =                1.304 / Telescope airmass at start                     \n",
       "PARANGLE=               52.937 / [deg] Telescope parallactic angle at start     \n",
       "URA     =            267.55304 / [deg] Telescope raw RA reading                 \n",
       "UDEC    =             29.85718 / [deg] Telescope raw Dec reading                \n",
       "OBJCTNAM= 'wasp-135'           / Object name from Telescope Control             \n",
       "OBJCTRA = '17:49:08.37'        / Object RA (J2000.0)                            \n",
       "OBJCTDEC= '+29:52:44'          / Object DEC (J2000.0)                           \n",
       "M2-Z    =                7.000 / [mm] M2 Z (focus) position                     \n",
       "TEMP-M1E=                 19.0 / Main mirror est side temperature at start (Cels\n",
       "TEMP-M1W=                 18.1 / Main mirror west side temperature at start (Cel\n",
       "TEMP-M2 =                 15.4 / M2 mirror temperature at start (Celsius)       \n",
       "TEMP-TOP=                 14.3 / Telescope Top Ring temperature at start (Celsiu\n",
       "TEMP-INT=                 15.2 / Dome temperature at start (Celsius)            \n",
       "TEMP-EXT=                 13.9 / External temperature at start (Celsius)        \n",
       "HUM-INT =                   80 / [%] Dome relative humidity at start            \n",
       "HUM-EXT =                   93 / [%] External relative humidity at start        \n",
       "TEMP-AF =                 18.7 / AFOSC temperature at start (Celsius)           \n",
       "TEMP-FL =                 16.9 / Dome floor temperature at start (Celsius)      \n",
       "TEMP-CEL=                 16.3 / Telescope Main mirror cell temperature at start\n",
       "WIND-DIR=                  160 / [deg] Wind Direction at start                  \n",
       "WIND-VEL=                  1.8 / [m/s] Wind Velocity at start                   "
      ]
     },
     "execution_count": 6,
     "metadata": {},
     "output_type": "execute_result"
    }
   ],
   "source": [
    "# With this command we are opening the file corresponding to the path up to /bias/ + its name.\n",
    "bias00_fits = fits.open('./group10_WASP-135_20190803/bias/' + bias_list[0])\n",
    "# The primary HDU is stored into the first place in the fits file.\n",
    "bias00_hdu = bias00_fits[0]\n",
    "#print(bias00_hdu)\n",
    "#The header contains a lot of information regarding the fits file.\n",
    "bias00_hdu.header"
   ]
  },
  {
   "cell_type": "markdown",
   "metadata": {},
   "source": [
    "From the header we can retrieve some useful data about the fits file. We will import $\\textit{time}$, $\\textit{airmass}$, $\\textit{gain}$ and $\\textit{readout noise}$. In order to retrieve their units we use the $\\texttt{comments}$ attribute of the header."
   ]
  },
  {
   "cell_type": "code",
   "execution_count": 9,
   "metadata": {},
   "outputs": [
    {
     "name": "stdout",
     "output_type": "stream",
     "text": [
      "Julian date       : 2458699.475185 JD\n",
      "CCD Gain          : 1.91 [e/ADU] \n",
      "CCD Readout noise : 7.10 [e]\n"
     ]
    }
   ],
   "source": [
    "bias00_time = bias00_hdu.header['JD'] #Contains the Julian Date\n",
    "bias00_airmass = bias00_hdu.header['AIRMASS'] #Contains the airmass\n",
    "bias00_gain = bias00_hdu.header['GAIN'] #Contains the gain\n",
    "bias00_readout_noise = bias00_hdu.header['RDNOISE'] #Contains the readout noise\n",
    "\n",
    "bias00_gain_comment = bias00_hdu.header.comments['GAIN']\n",
    "bias00_ron_comment = bias00_hdu.header.comments['RDNOISE']\n",
    "\n",
    "print('Julian date       : {0:12.6f} JD'.format(bias00_time))\n",
    "print('CCD Gain          : {0:4.2f} {1:.8s}'.format(bias00_gain, bias00_gain_comment))\n",
    "print('CCD Readout noise : {0:4.2f} {1:.3s}'.format(bias00_readout_noise, bias00_ron_comment))"
   ]
  },
  {
   "cell_type": "markdown",
   "metadata": {},
   "source": [
    "Since we have many frames, we will take their median. In order to compute it, we need to open and save all the frames somewhere."
   ]
  }
 ],
 "metadata": {
  "kernelspec": {
   "display_name": "base",
   "language": "python",
   "name": "python3"
  },
  "language_info": {
   "codemirror_mode": {
    "name": "ipython",
    "version": 3
   },
   "file_extension": ".py",
   "mimetype": "text/x-python",
   "name": "python",
   "nbconvert_exporter": "python",
   "pygments_lexer": "ipython3",
   "version": "3.11.7"
  }
 },
 "nbformat": 4,
 "nbformat_minor": 2
}

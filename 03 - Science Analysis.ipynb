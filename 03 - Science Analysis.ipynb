{
 "cells": [
  {
   "cell_type": "markdown",
   "metadata": {},
   "source": [
    "## Science Frame Correction"
   ]
  },
  {
   "cell_type": "code",
   "execution_count": 2,
   "metadata": {},
   "outputs": [],
   "source": [
    "import numpy as np\n",
    "import matplotlib.pyplot as plt\n",
    "%matplotlib widget\n",
    "from astropy.io import fits\n",
    "import pickle\n",
    "\n",
    "science_list = np.genfromtxt('./group10_WASP-135_20190803/flat/flat.list', dtype=str)\n"
   ]
  },
  {
   "cell_type": "markdown",
   "metadata": {},
   "source": [
    "### Testing the code on a subset of images\n",
    "In lab we tested our reduction pipeline and tools only on a small subsample of images beacuse of reduced available space on the computer. Now we will use the full sample."
   ]
  },
  {
   "cell_type": "code",
   "execution_count": 3,
   "metadata": {},
   "outputs": [],
   "source": [
    "science_test_list = science_list #Nel caso volessimo ridurre basta selezionare solo alcune immagini di science list"
   ]
  },
  {
   "cell_type": "markdown",
   "metadata": {},
   "source": [
    "### Data Reduction Steps\n",
    "Science **data reduction** includes the following steps:\n",
    "1. Multiplication by GAIN (as always)\n",
    "2. Bias Subtraction\n",
    "3. Division by flat\n",
    "\n",
    "Therefore we have the following **error sources**:\n",
    "1. Readout Noise\n",
    "2. Bias Error\n",
    "3. Flat Error\n",
    "4. Photon Noise\n",
    "\n",
    "In order to procede we load the necessary quantities."
   ]
  },
  {
   "cell_type": "code",
   "execution_count": 4,
   "metadata": {},
   "outputs": [],
   "source": [
    "# Prendiamo i dati salvati\n",
    "median_bias = pickle.load(open(\"median_bias.p\", \"rb\"))\n",
    "median_normalized_flat = pickle.load(open(\"median_normalized_flat.p\", \"rb\"))\n",
    "median_normalized_flat_errors = pickle.load(open(\"median_normalized_flat_errors.p\", \"rb\"))\n",
    "\n",
    "# Prendiamo i dati rimanenti dai notebook 01 e 02\n",
    "bias_std = 1.33 # [e] = photoelectrons\n",
    "readout_noise = 7.10 # [e] = photoelectrons\n",
    "gain = 1.91 #[e/ADU] from the header file"
   ]
  },
  {
   "cell_type": "code",
   "execution_count": null,
   "metadata": {},
   "outputs": [],
   "source": []
  }
 ],
 "metadata": {
  "kernelspec": {
   "display_name": "base",
   "language": "python",
   "name": "python3"
  },
  "language_info": {
   "codemirror_mode": {
    "name": "ipython",
    "version": 3
   },
   "file_extension": ".py",
   "mimetype": "text/x-python",
   "name": "python",
   "nbconvert_exporter": "python",
   "pygments_lexer": "ipython3",
   "version": "3.11.7"
  }
 },
 "nbformat": 4,
 "nbformat_minor": 2
}

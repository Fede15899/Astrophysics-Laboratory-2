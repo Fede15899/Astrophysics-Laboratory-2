{
 "cells": [
  {
   "cell_type": "markdown",
   "metadata": {},
   "source": [
    "## Science Frame Correction"
   ]
  },
  {
   "cell_type": "code",
   "execution_count": 13,
   "metadata": {},
   "outputs": [],
   "source": [
    "import numpy as np\n",
    "import matplotlib.pyplot as plt\n",
    "%matplotlib widget\n",
    "from astropy.io import fits\n",
    "import pickle\n",
    "\n",
    "science_list = np.genfromtxt('./group10_WASP-135_20190803/science/science.list', dtype=str)\n"
   ]
  },
  {
   "cell_type": "markdown",
   "metadata": {},
   "source": [
    "### Testing the code on a subset of images\n",
    "In lab we tested our reduction pipeline and tools only on a small subsample of images beacuse of reduced available space on the computer. Now we will use the full sample."
   ]
  },
  {
   "cell_type": "code",
   "execution_count": 14,
   "metadata": {},
   "outputs": [],
   "source": [
    "science_test_list = science_list[:30] #Nel caso volessimo ridurre basta selezionare solo alcune immagini di science list"
   ]
  },
  {
   "cell_type": "markdown",
   "metadata": {},
   "source": [
    "### Data Reduction Steps\n",
    "Science **data reduction** includes the following steps:\n",
    "1. Multiplication by GAIN (as always)\n",
    "2. Bias Subtraction\n",
    "3. Division by flat\n",
    "\n",
    "Therefore we have the following **error sources**:\n",
    "1. Readout Noise\n",
    "2. Bias Error\n",
    "3. Flat Error\n",
    "4. Photon Noise\n",
    "\n",
    "In order to procede we load the necessary quantities."
   ]
  },
  {
   "cell_type": "code",
   "execution_count": 15,
   "metadata": {},
   "outputs": [],
   "source": [
    "# Prendiamo i dati salvati\n",
    "median_bias = pickle.load(open(\"median_bias.p\", \"rb\"))\n",
    "median_normalized_flat = pickle.load(open(\"median_normalized_flat.p\", \"rb\"))\n",
    "median_normalized_flat_errors = pickle.load(open(\"median_normalized_flat_errors.p\", \"rb\"))\n",
    "\n",
    "# Prendiamo i dati rimanenti dai notebook 01 e 02\n",
    "bias_std = 1.33 # [e] = photoelectrons\n",
    "readout_noise = 7.10 # [e] = photoelectrons\n",
    "gain = 1.91 #[e/ADU] from the header file"
   ]
  },
  {
   "cell_type": "markdown",
   "metadata": {},
   "source": [
    "For the photon noise, we use the method we employed for the flat. The photon noise must be computed **after** removing the bias but **before** correcting for the flat field. In fact the error must be calculated on the actual number of photons received on the detector, not on the photons emitted by the source.\n",
    "\n",
    "The error on the science_debiased is given by the sum in quadrature of the errors:\n",
    "\n",
    "##### Debiased Error\n",
    "$\\sigma_{debiased} = \\sqrt{\\sigma_{rdn}^2 + \\sigma_{bias}^2 + \\sigma_{photon}^2}$\n",
    "\n",
    "The photon noise follows a Poissonian distribution so it is given by the square root of the counts $\\sqrt{\\texttt{science\\_debiased}}$:\n",
    "\n",
    "$\\sigma_{debiased} = \\sqrt{\\sigma_{rdn}^2 + \\sigma_{bias}^2 + \\texttt{science\\_debiased}}$\n",
    "\n",
    "##### Corrected Error\n",
    "For science correction, the corrected intensity is given by:\n",
    "\n",
    "$\\text{science\\_corrected} = \\frac{\\text{science\\_debiased}}{\\text{median\\_normalized\\_flat}}$\n",
    "\n",
    "We apply the error propagation rule for division. If a quantity $z$ is given by the ratio of two variables $x$ and $y$,\n",
    "\n",
    "$\\frac{\\sigma_z}{z} = \\sqrt{\\left(\\frac{\\sigma_x}{x}\\right)^2 + \\left(\\frac{\\sigma_y}{y}\\right)^2}$\n",
    "\n",
    "Applying this formula to our variables:\n",
    "\n",
    "$\\frac{\\sigma_{\\text{science\\_corrected}}}{\\text{science\\_corrected}} =\n",
    "\\sqrt{\\left(\\frac{\\sigma_{\\text{science\\_debiased}}}{\\text{science\\_debiased}}\\right)^2 +\n",
    "\\left(\\frac{\\sigma_{\\text{median\\_normalized\\_flat}}}{\\text{median\\_normalized\\_flat}}\\right)^2}$\n",
    "\n",
    "Finally, multiplying both sides by $\\text{science\\_corrected}$, we obtain the final expression:\n",
    "\n",
    "$\\sigma_{\\text{science\\_corrected}} =\n",
    "\\text{science\\_corrected} \\times \\sqrt{\n",
    "\\left(\\frac{\\sigma_{\\text{science\\_debiased}}}{\\text{science\\_debiased}}\\right)^2 +\n",
    "\\left(\\frac{\\sigma_{\\text{median\\_normalized\\_flat}}}{\\text{median\\_normalized\\_flat}}\\right)^2\n",
    "}$\n",
    "\n",
    "\n"
   ]
  },
  {
   "cell_type": "code",
   "execution_count": 16,
   "metadata": {},
   "outputs": [
    {
     "name": "stderr",
     "output_type": "stream",
     "text": [
      "C:\\Users\\Lorenzo\\AppData\\Local\\Temp\\ipykernel_1632\\808184146.py:9: RuntimeWarning: divide by zero encountered in divide\n",
      "  science_corrected = science_debiased / median_normalized_flat # Correggo per il flat\n",
      "C:\\Users\\Lorenzo\\AppData\\Local\\Temp\\ipykernel_1632\\808184146.py:9: RuntimeWarning: invalid value encountered in divide\n",
      "  science_corrected = science_debiased / median_normalized_flat # Correggo per il flat\n",
      "C:\\Users\\Lorenzo\\AppData\\Local\\Temp\\ipykernel_1632\\808184146.py:12: RuntimeWarning: divide by zero encountered in divide\n",
      "  science_corrected_errors = science_corrected * np.sqrt((science_debiased_errors/science_debiased)**2 + (median_normalized_flat_errors/median_normalized_flat)**2)\n",
      "C:\\Users\\Lorenzo\\AppData\\Local\\Temp\\ipykernel_1632\\808184146.py:12: RuntimeWarning: invalid value encountered in multiply\n",
      "  science_corrected_errors = science_corrected * np.sqrt((science_debiased_errors/science_debiased)**2 + (median_normalized_flat_errors/median_normalized_flat)**2)\n"
     ]
    }
   ],
   "source": [
    "for science_name in science_list:\n",
    "    \"\"\"Load the science frames, multiply them by the gain, subtract the median_bias,\n",
    "    divide by the flat. Next we compute the errors.\"\"\"\n",
    "    science_fits = fits.open('./group10_WASP-135_20190803/science/' + science_name)\n",
    "    science_data = science_fits[0].data * gain\n",
    "    science_fits.close()\n",
    "\n",
    "    science_debiased = science_data - median_bias # Sottraggo il bias\n",
    "    science_corrected = science_debiased / median_normalized_flat # Correggo per il flat\n",
    "    \n",
    "    science_debiased_errors = np.sqrt(readout_noise**2 + bias_std**2 + science_debiased)\n",
    "    science_corrected_errors = science_corrected * np.sqrt((science_debiased_errors/science_debiased)**2 + (median_normalized_flat_errors/median_normalized_flat)**2)\n",
    "    "
   ]
  },
  {
   "cell_type": "markdown",
   "metadata": {},
   "source": [
    "### Saving the images\n",
    "\n",
    "We created a new directory $\\texttt{correct}$ where to store the new files. We want to use the same name of the files for our new frames, without the .fits extension.\n",
    "\".fits\" is 5 characters, we can take the strin identifying each file name and remove the last five characters and add the new ones which will be $\\texttt{\\_corr.p}$"
   ]
  },
  {
   "cell_type": "code",
   "execution_count": 17,
   "metadata": {},
   "outputs": [],
   "source": [
    "# Esempio\n",
    "# new_name = './correct' + science_name[:-5] + '_corr.p'\n",
    "# print(science_name)\n",
    "# print(science_name[:-5])\n",
    "# new_name = science_name[:-5] + '_corr.p'\n",
    "# print(new_name)\n",
    "\n",
    "for science_name in science_test_list:\n",
    "    new_name = './group10_WASP-135_20190803/correct/' + science_name[:-5] + '_corr.p'\n",
    "    pickle.dump(science_corrected, open(new_name, 'wb'))\n",
    "    new_name = './group10_WASP-135_20190803/correct/' + science_name[:-5] + '_corr_error.p'\n",
    "    pickle.dump(science_corrected_errors, open(new_name, 'wb'))\n",
    "    "
   ]
  },
  {
   "cell_type": "markdown",
   "metadata": {},
   "source": [
    "### Extracting and saving useful information\n",
    "We also need to know when the data was taken and some extra information regarding the pointing of the telescope.\n",
    "1. epoch of exposure in Julian Date\n",
    "2. exposure time (duration)\n",
    "3. airmass during the exposure\n",
    "4. filter used for all observations\n",
    "\n",
    "We can gather this information from the header of the fits files.\n",
    "\n",
    "We also need Hour Angle and Declination for further corrections.\n"
   ]
  },
  {
   "cell_type": "code",
   "execution_count": null,
   "metadata": {},
   "outputs": [
    {
     "name": "stdout",
     "output_type": "stream",
     "text": [
      " JD at start\n",
      " [s] Exposure time\n",
      " Telescope airmass at start\n"
     ]
    }
   ],
   "source": [
    "n_images = len(science_test_list) # Estraggo numero di immagini\n",
    "\n",
    "# Inizializzo degli array con un entrata per immagine nei quali immagazzinare jd, exptime e airmass\n",
    "array_jd = np.zeros(n_images)\n",
    "array_exptime = np.zeros(n_images)\n",
    "array_airmass = np.zeros(n_images)\n",
    "\n",
    "for i, science_name in enumerate(science_test_list):\n",
    "\n",
    "    \"\"\"In questo ciclo for carico uno ad uno i file .fits della cartella science.\n",
    "    Dall'header di ciascun file ottengo jd, exptime e airmass e relative unità di\n",
    "    misura (solo per il primo file, poi per gli altri sono uguali)\n",
    "     e le salvo negli array.\"\"\"\n",
    "\n",
    "    science_fits = fits.open('./group10_WASP-135_20190803/science/' + science_name)\n",
    "    array_jd[i] = science_fits[0].header['JD']\n",
    "    array_exptime[i] = science_fits[0].header['EXPTIME']\n",
    "    array_airmass[i] = science_fits[0].header['AIRMASS']\n",
    "\n",
    "    # Le unità di misura stanno nei commenti dell'header\n",
    "    if i == 0:\n",
    "        print('',science_fits[0].header.comments['JD'])\n",
    "        print('',science_fits[0].header.comments['EXPTIME'])\n",
    "        print('',science_fits[0].header.comments['AIRMASS'])\n",
    "\n",
    "    science_fits.close()"
   ]
  },
  {
   "cell_type": "markdown",
   "metadata": {},
   "source": [
    "### Conversion to BJD_TDB\n",
    "\n",
    "We have saved the Jd of the observation, however, what we really want id the time as recorded at the Barycenter of the Solar System, as we do not want to be influenced by the specific position of the observatory when the observations are taken.\n",
    "\n",
    "When observing a celestial object from Earth, our planet moves around the Solar System barycenter, which is not exactly at the Sun's center due to the influence of massive planets like Jupiter and Saturn.\n",
    "\n",
    "As a result, the time at which light from an object reaches our telescope depends on Earth's position in its orbit. Observing the same star at different times of the year means the light travel time to Earth varies slightly.\n",
    "\n",
    "If we do not correct for this effect, the recorded observation time may have an error of up to ±8 minutes (about 500 seconds), which corresponds to the time light takes to cross Earth's orbit.\n",
    "\n",
    "Using the **Barycentric Julian Date (BJD_TDB)** ensures that all observations are referenced to the same point in space: the **Solar System barycenter**. This removes the effect of Earth's motion and makes observation times comparable across different observatories.\n",
    "\n",
    "This correction is essential regardless of the observed object (a nearby star, a distant galaxy, or an exoplanet). It ensures we refer to the actual time when the light left the source, rather than when it was received on Earth.\n",
    "\n",
    "For consistency, if observations were recorded from another planet (e.g., Mars), using BJD_TDB would allow direct comparison with data from Earth, as all timestamps would be referenced to the same spatial point.\n",
    "\n",
    "##### Steps in BJD_TDB Correction  \n",
    "\n",
    "1. **Mid-Exposure Correction**  \n",
    "   Observations are timestamped at the start of the exposure, but we need the mid-exposure time for accuracy. This is done by adding half the exposure duration to the initial Julian Date.  \n",
    "\n",
    "2. **UTC to TDB Conversion**  \n",
    "   UTC is affected by leap seconds, making it discontinuous. We convert to **Barycentric Dynamical Time (TDB)**, a continuous timescale used for precise astronomical calculations.  \n",
    "\n",
    "3. **Light Travel Time Correction**  \n",
    "   Light takes time to reach Earth, and the exact arrival time depends on Earth's position in its orbit. We correct for this delay by referencing the observation time to the **Solar System Barycenter (SSB)**, ensuring consistency across different epochs and locations.  \n",
    "\n",
    "We use the $\\texttt{Time}$ package to perform these calculations. We need to specify our coordinate system and our position as well. \n"
   ]
  },
  {
   "cell_type": "code",
   "execution_count": 23,
   "metadata": {},
   "outputs": [
    {
     "data": {
      "text/plain": [
       "SIMPLE  =                    T / file does conform to FITS standard             \n",
       "BITPIX  =                   16 / number of bits per data pixel                  \n",
       "NAXIS   =                    2 / number of data axes                            \n",
       "NAXIS1  =                  521 / length of data axis 1                          \n",
       "NAXIS2  =                  119 / length of data axis 2                          \n",
       "EXTEND  =                    T / FITS dataset may contain extensions            \n",
       "COMMENT   FITS (Flexible Image Transport System) format is defined in 'Astronomy\n",
       "COMMENT   and Astrophysics', volume 376, page 359; bibcode: 2001A&A...376..359H \n",
       "BZERO   =                32768 / offset data range to that of unsigned short    \n",
       "BSCALE  =                    1 / default scaling factor                         \n",
       "DATE    = '2019-08-03T19:45:34' / file creation date (YYYY-MM-DDThh:mm:ss UT)   \n",
       "FILENAME= 'AF559481.fits'      / Original file name                             \n",
       "TIMESYS = 'UTC     '                                                            \n",
       "DATE-OBS= '2019-08-03T19:45:22.9' / UTC date at start of exposure               \n",
       "JD      =       2458699.323182 / JD at start                                    \n",
       "MJD     =         58698.823182 / MJD at start                                   \n",
       "EXPTIME =                10.00 / [s] Exposure time                              \n",
       "CCD-TEMP=                -95.5 / CCD temperature (Celsius) at start of exposure \n",
       "SET-TEMP=                -95.0 / CCD setpoint temperature (Celsius)             \n",
       "IMAGETYP= 'Object  '                                                            \n",
       "OBJECT  = 'wasp-135'                                                            \n",
       "OBSERVER= 'Nascimbeni'                                                          \n",
       "PROGRAM = 'Nascimbeni'         / Program name                                   \n",
       "FILTER  = 'r-Sloan '           / Filter Wheel position 6                        \n",
       "GRAT_TYP= 'NONE    '           / Grism Wheel position 1                         \n",
       "SLIT    = 'NONE    '           / Aperture Wheel position 1                      \n",
       "LAMP    = 'NO      '                                                            \n",
       "CAMERA  =                42224 / Actual Camera focus position                   \n",
       "FOCUSOFF=                -2980 / Filter focus offset                            \n",
       "ROTANGLE=                -80.0 / [deg] Telescope flange rotation angle          \n",
       "LTM1_1  =                0.250                                                  \n",
       "LTM2_2  =                0.250                                                  \n",
       "LTV1    =                   -1                                                  \n",
       "LTV2    =                -1023                                                  \n",
       "X-START =                    2 / physical windowing X start pixel               \n",
       "Y-START =                 1024 / physical windowing Y start pixel               \n",
       "X-STOP  =                 2085 / physical windowing X stop pixel                \n",
       "Y-STOP  =                 1499 / physical windowing Y stop pixel                \n",
       "APPOS   =                    0 / Aperture wheel position                        \n",
       "FLPOS   =               200000 / Filter wheel position                          \n",
       "GRPOS   =                    0 / Grism wheel position                           \n",
       "ORIGIN  = 'Asiago Astronomical Observatory'                                     \n",
       "TELESCOP= '1.82m Reflector'                                                     \n",
       "INSTRUME= 'AFOSC + Andor iKon-L DZ936N-BEX2-DD-9HF'                             \n",
       "DETECTOR= 'E2V CCD42-40 DD'                                                     \n",
       "BINX    =                    4 / Horizontal Binning factor used                 \n",
       "BINY    =                    4 / Vertical Binning factor used                   \n",
       "GAIN    =                 1.91 / [e/ADU] CCD Camera gain                        \n",
       "RDNOISE =                 7.10 / [e] CCD Camera readout noise                   \n",
       "CCDSCALE=                 0.25 / [arcsec/px] unbinned CCD camera scale          \n",
       "SITETYPE= 'GEODETIC'                                                            \n",
       "SITESYS = 'WGS84   '                                                            \n",
       "SITELAT =           45.8485832 / [deg] Telescope latitude, N45:50:54.894        \n",
       "SITELONG=           11.5689993 / [deg] Telescope longitude, E11:34:08.397       \n",
       "SITEELEV=               1376.2 / [m] Telescope height above sea level           \n",
       "HSSPEED =                    2 / 1 MHz CCD sensor horizontal shift speed        \n",
       "OUTMODE =                    0 / High Sensitivity CCD sensor output mode        \n",
       "PREAMP  =                    1 / x2 CCD sensor preamplifier gain                \n",
       "HJD     =       2458699.325766 / Heliocentric Julian Date at middle of exposure \n",
       "EQUINOX =                2000.                                                  \n",
       "RADESYS = 'FK5     '                                                            \n",
       "LST     = '17:20:02.0'         / Local sideral time at start                    \n",
       "HA      = '-00:29:56'          / Telescope HA at start                          \n",
       "RA      = '17:49:12.93'        / Telescope RA (J2000.0)                         \n",
       "DEC     = '+29:52:48'          / Telescope DEC (J2000.0)                        \n",
       "ALTITUDE=             72.99562 / [deg] Telescope altitude at start              \n",
       "AZIMUTH =            337.28354 / [deg] Telescope azimuth at start               \n",
       "AIRMASS =                1.046 / Telescope airmass at start                     \n",
       "PARANGLE=              -18.073 / [deg] Telescope parallactic angle at start     \n",
       "URA     =            267.53061 / [deg] Telescope raw RA reading                 \n",
       "UDEC    =             29.85840 / [deg] Telescope raw Dec reading                \n",
       "OBJCTNAM= 'wasp-135'           / Object name from Telescope Control             \n",
       "OBJCTRA = '17:49:08.37'        / Object RA (J2000.0)                            \n",
       "OBJCTDEC= '+29:52:44'          / Object DEC (J2000.0)                           \n",
       "M2-Z    =                7.000 / [mm] M2 Z (focus) position                     \n",
       "TEMP-M1E=                 19.4 / Main mirror est side temperature at start (Cels\n",
       "TEMP-M1W=                 19.3 / Main mirror west side temperature at start (Cel\n",
       "TEMP-M2 =                 17.7 / M2 mirror temperature at start (Celsius)       \n",
       "TEMP-TOP=                 17.0 / Telescope Top Ring temperature at start (Celsiu\n",
       "TEMP-INT=                 16.6 / Dome temperature at start (Celsius)            \n",
       "TEMP-EXT=                 15.6 / External temperature at start (Celsius)        \n",
       "HUM-INT =                   69 / [%] Dome relative humidity at start            \n",
       "HUM-EXT =                   81 / [%] External relative humidity at start        \n",
       "TEMP-AF =                 19.3 / AFOSC temperature at start (Celsius)           \n",
       "TEMP-FL =                 17.6 / Dome floor temperature at start (Celsius)      \n",
       "TEMP-CEL=                 18.4 / Telescope Main mirror cell temperature at start\n",
       "WIND-DIR=                  269 / [deg] Wind Direction at start                  \n",
       "WIND-VEL=                  0.6 / [m/s] Wind Velocity at start                   "
      ]
     },
     "execution_count": 23,
     "metadata": {},
     "output_type": "execute_result"
    }
   ],
   "source": [
    "\"\"\"We make an example with just one file, a complete correction will be done in the next lectures\"\"\"\n",
    "\n",
    "science00_fits = fits.open('./group10_WASP-135_20190803/science/' + science_list[0])\n",
    "# The primary HDU is stored into the first place in the fits file.\n",
    "science00_hdu = science00_fits[0]\n",
    "#The header contains a lot of information regarding the fits file.\n",
    "science00_hdu.header"
   ]
  },
  {
   "cell_type": "code",
   "execution_count": 25,
   "metadata": {},
   "outputs": [
    {
     "data": {
      "application/vnd.jupyter.widget-view+json": {
       "model_id": "24fc8c4b0d074606bd24a72247fbee2c",
       "version_major": 2,
       "version_minor": 0
      },
      "image/png": "[encoded data removed]",
      "text/html": [
       "\n",
       "            <div style=\"display: inline-block;\">\n",
       "                <div class=\"jupyter-widgets widget-label\" style=\"text-align: center;\">\n",
       "                    Figure\n",
       "                </div>\n",
       "                <img src='data:image/png;base64,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' width=600.0/>\n",
       "            </div>\n",
       "        "
      ],
      "text/plain": [
       "Canvas(toolbar=Toolbar(toolitems=[('Home', 'Reset original view', 'home', 'home'), ('Back', 'Back to previous …"
      ]
     },
     "metadata": {},
     "output_type": "display_data"
    }
   ],
   "source": [
    "from astropy import coordinates as coord\n",
    "from astropy import units as u\n",
    "\n",
    "\"\"\"In realtà RA e DEC variano leggermente tra un frame e il successivo.\"\"\"                       \n",
    "# RA      = '17:49:12.93'        / Telescope RA (J2000.0)                         \n",
    "# DEC     = '+29:52:48'          / Telescope DEC (J2000.0)\n",
    "# SITELAT =           45.8485832 / [deg] Telescope latitude, N45:50:54.894        \n",
    "# SITELONG=           11.5689993 / [deg] Telescope longitude, E11:34:08.397\n",
    "\n",
    "# Carico le coordinate del nostro target\n",
    "target = coord.SkyCoord(\"17:49:12.93\",\"+29:52:48\", unit=(u.hourangle, u.deg), frame='icrs')\n",
    "\n",
    "from astropy.time import Time\n",
    "\n",
    "# Calcolo il light travel time per un anno di osservazioni\n",
    "jd_plot = np.arange(2460000, 2460365.25, 0.10) #Prendo un anno a intervalli di 0.1 giorni\n",
    "# Prendo il vettore jd e lo converto in un vettore di tipo time che contiene anche la nostra location\n",
    "tm_plot = Time(jd_plot, format='jd', scale='utc', location=('45.8485832d', '11.5689993d'))\n",
    "# Calcola il light travel time per ciascun tempo contentuto in tm_plot, per il target selezionato\n",
    "ltt_plot = tm_plot.light_travel_time(target, ephemeris='jpl')\n",
    "\n",
    "# Converto il tm_plot in tdb e aggiungo il light travel time\n",
    "bjd_tdb_plot = tm_plot.tdb + ltt_plot\n",
    "\n",
    "plt.figure(figsize=(6,4))\n",
    "plt.plot(jd_plot, ltt_plot.to_value(u.min))\n",
    "plt.xlabel('JD [d]')\n",
    "plt.ylabel('Light travel time [m]')\n",
    "plt.show()\n"
   ]
  },
  {
   "cell_type": "markdown",
   "metadata": {},
   "source": [
    "This plot shows the light time travel correction along one year, as the Earth position changes while it moves around the Sun, the light time travel correction changes accordingly.\n",
    "\n",
    "Now we apply the correction to our observations instead of a fictitious jd array"
   ]
  },
  {
   "cell_type": "code",
   "execution_count": 26,
   "metadata": {},
   "outputs": [
    {
     "name": "stdout",
     "output_type": "stream",
     "text": [
      "Average Light travel time:                             3.54 minutes\n",
      "Average difference between JD_UTC and BJD_TDB:      -281.66 seconds\n"
     ]
    }
   ],
   "source": [
    "\"\"\" array_jd contiene il tempo di inizio osservazione in secondi, noi vogliamo il tempo al centro\n",
    "dell'osservazione in secondi quindi aggiungiamo metà del tempo di esposizione, dividendolo per 86400\n",
    "in modo da avere secondi. \"\"\"\n",
    "\n",
    "jd = array_jd + (array_exptime/2)*(1/86400)\n",
    "\n",
    "tm = Time(jd, format='jd', scale='utc', location=('45.8485832d', '11.5689993d'))\n",
    "\n",
    "ltt_barycenter = tm.light_travel_time(target)\n",
    "\n",
    "bjd_tdb = tm.tdb + ltt_barycenter\n",
    "\n",
    "print('Average Light travel time:                     {0:12.2f} minutes'.format(np.average(ltt_barycenter.to_value(u.min))))\n",
    "print('Average difference between JD_UTC and BJD_TDB: {0:12.2f} seconds'.format(np.average(jd - bjd_tdb.to_value('jd'))*86400))"
   ]
  }
 ],
 "metadata": {
  "kernelspec": {
   "display_name": "base",
   "language": "python",
   "name": "python3"
  },
  "language_info": {
   "codemirror_mode": {
    "name": "ipython",
    "version": 3
   },
   "file_extension": ".py",
   "mimetype": "text/x-python",
   "name": "python",
   "nbconvert_exporter": "python",
   "pygments_lexer": "ipython3",
   "version": "3.11.7"
  }
 },
 "nbformat": 4,
 "nbformat_minor": 2
}

{
 "cells": [
  {
   "cell_type": "markdown",
   "metadata": {},
   "source": [
    "### Acquiring Data\n",
    "Now we can load the class and repeat the analysis with different combinations of partures and reference stars. We will save the output of the aperture photometry in a dictionary and save it as pickle file. For each target we choose the aperture that minimizes the error."
   ]
  },
  {
   "cell_type": "code",
   "execution_count": 20,
   "metadata": {},
   "outputs": [
    {
     "name": "stderr",
     "output_type": "stream",
     "text": [
      "c:\\Users\\Lorenzo\\Desktop\\Università\\Magistrale\\Astrophysics Laboratory 2\\Astrolab2\\aperture_photometry.py:59: RuntimeWarning: divide by zero encountered in divide\n",
      "  science_corrected = science_debiased /self.median_normalized_flat\n",
      "c:\\Users\\Lorenzo\\Desktop\\Università\\Magistrale\\Astrophysics Laboratory 2\\Astrolab2\\aperture_photometry.py:59: RuntimeWarning: invalid value encountered in divide\n",
      "  science_corrected = science_debiased /self.median_normalized_flat\n",
      "c:\\Users\\Lorenzo\\Desktop\\Università\\Magistrale\\Astrophysics Laboratory 2\\Astrolab2\\aperture_photometry.py:63: RuntimeWarning: divide by zero encountered in divide\n",
      "  science_corrected_error = science_corrected * np.sqrt((science_debiased_error/science_debiased)**2 + (self.median_normalized_flat_error/self.median_normalized_flat)**2)\n",
      "c:\\Users\\Lorenzo\\Desktop\\Università\\Magistrale\\Astrophysics Laboratory 2\\Astrolab2\\aperture_photometry.py:63: RuntimeWarning: invalid value encountered in multiply\n",
      "  science_corrected_error = science_corrected * np.sqrt((science_debiased_error/science_debiased)**2 + (self.median_normalized_flat_error/self.median_normalized_flat)**2)\n"
     ]
    },
    {
     "name": "stdout",
     "output_type": "stream",
     "text": [
      "Relative error using an aperture of 6 is: 0.001215\n"
     ]
    }
   ],
   "source": [
    "from aperture_photometry import AperturePhotometry\n",
    "import pickle\n",
    "\n",
    "# target_ap05 = AperturePhotometry()\n",
    "# target_ap05.aperture_photometry(13, 20, 5, 146, 21)\n",
    "\n",
    "# target_ap055 = AperturePhotometry()\n",
    "# target_ap055.aperture_photometry(13, 20, 5.5, 146, 21)\n",
    "\n",
    "target_ap06 = AperturePhotometry()\n",
    "target_ap06.aperture_photometry(13, 20, 6, 146, 21)\n",
    "\n",
    "# target_ap065 = AperturePhotometry()\n",
    "# target_ap065.aperture_photometry(13, 20, 6.5, 146, 21)\n",
    "\n",
    "# target_ap07 = AperturePhotometry()\n",
    "# target_ap07.aperture_photometry(13, 20, 7, 146, 21)\n",
    "\n",
    "\n",
    "\n",
    "# print(\"Relative error using an aperture of {0} is: {1:.6f}\".format(target_ap05.aperture_radius, target_ap05.aperture_error[0]/target_ap05.aperture[0]))\n",
    "# print(\"Relative error using an aperture of {0} is: {1:.6f}\".format(target_ap055.aperture_radius, target_ap055.aperture_error[0]/target_ap055.aperture[0]))\n",
    "print(\"Relative error using an aperture of {0} is: {1:.6f}\".format(target_ap06.aperture_radius, target_ap06.aperture_error[0]/target_ap06.aperture[0]))\n",
    "# print(\"Relative error using an aperture of {0} is: {1:.6f}\".format(target_ap065.aperture_radius, target_ap065.aperture_error[0]/target_ap065.aperture[0]))\n",
    "# print(\"Relative error using an aperture of {0} is: {1:.6f}\".format(target_ap07.aperture_radius, target_ap07.aperture_error[0]/target_ap07.aperture[0]))\n",
    "\n",
    "output_dictionary_target = {\n",
    "    'airmass': target_ap06.airmass,\n",
    "    'exptime': target_ap06.exptime,\n",
    "    'bjd_tdb': target_ap06.bjd_tdb,\n",
    "    'aperture': target_ap06.aperture,\n",
    "    'aperture_error': target_ap06.aperture_error,\n",
    "    'sky_background': target_ap06.sky_background,\n",
    "    'sky_background_error': target_ap06.sky_background_error,\n",
    "    'x_refined': target_ap06.x_position,\n",
    "    'y_refined': target_ap06.y_position\n",
    "}\n",
    "\n",
    "pickle.dump(output_dictionary_target, open('target_in13_out20_ap6.p', 'wb'))\n"
   ]
  },
  {
   "cell_type": "markdown",
   "metadata": {},
   "source": [
    "Since for the target, an aperture of 6 is ideal, we will use the same aperture also for the reference stars. The reason why we don't adapt the value to the other stars is that we will need the annulus to be of the same size for the differential photometry."
   ]
  },
  {
   "cell_type": "code",
   "execution_count": 21,
   "metadata": {},
   "outputs": [],
   "source": [
    "\n",
    "reference_star01 = AperturePhotometry()\n",
    "reference_star01.aperture_photometry(13, 20, 7, 228, 33)\n",
    "\n",
    "reference_star02 = AperturePhotometry()\n",
    "reference_star02.aperture_photometry(13, 20, 7, 194, 62)\n",
    "\n",
    "reference_star03 = AperturePhotometry()\n",
    "reference_star03.aperture_photometry(13, 20, 7, 290, 93)\n",
    "\n",
    "reference_star04 = AperturePhotometry()\n",
    "reference_star04.aperture_photometry(15, 22, 7, 322, 40)\n",
    "\n",
    "output_dictionary_reference_star01 = {\n",
    "    'airmass': reference_star01.airmass,\n",
    "    'exptime': reference_star01.exptime,\n",
    "    'bjd_tdb': reference_star01.bjd_tdb,\n",
    "    'aperture': reference_star01.aperture,\n",
    "    'aperture_error': reference_star01.aperture_error,\n",
    "    'sky_background': reference_star01.sky_background,\n",
    "    'sky_background_error': reference_star01.sky_background_error,\n",
    "    'x_refined': reference_star01.x_position,\n",
    "    'y_refined': reference_star01.y_position\n",
    "}\n",
    "\n",
    "\n",
    "output_dictionary_reference_star02 = {\n",
    "    'airmass': reference_star02.airmass,\n",
    "    'exptime': reference_star02.exptime,\n",
    "    'bjd_tdb': reference_star02.bjd_tdb,\n",
    "    'aperture': reference_star02.aperture,\n",
    "    'aperture_error': reference_star02.aperture_error,\n",
    "    'sky_background': reference_star02.sky_background,\n",
    "    'sky_background_error': reference_star02.sky_background_error,\n",
    "    'x_refined': reference_star02.x_position,\n",
    "    'y_refined': reference_star02.y_position\n",
    "}\n",
    "\n",
    "output_dictionary_reference_star03 = {\n",
    "    'airmass': reference_star03.airmass,\n",
    "    'exptime': reference_star03.exptime,\n",
    "    'bjd_tdb': reference_star03.bjd_tdb,\n",
    "    'aperture': reference_star03.aperture,\n",
    "    'aperture_error': reference_star03.aperture_error,\n",
    "    'sky_background': reference_star03.sky_background,\n",
    "    'sky_background_error': reference_star03.sky_background_error,\n",
    "    'x_refined': reference_star03.x_position,\n",
    "    'y_refined': reference_star03.y_position\n",
    "}\n",
    "\n",
    "output_dictionary_reference_star04 = {\n",
    "    'airmass': reference_star04.airmass,\n",
    "    'exptime': reference_star04.exptime,\n",
    "    'bjd_tdb': reference_star04.bjd_tdb,\n",
    "    'aperture': reference_star04.aperture,\n",
    "    'aperture_error': reference_star04.aperture_error,\n",
    "    'sky_background': reference_star04.sky_background,\n",
    "    'sky_background_error': reference_star04.sky_background_error,\n",
    "    'x_refined': reference_star04.x_position,\n",
    "    'y_refined': reference_star04.y_position\n",
    "}\n"
   ]
  },
  {
   "cell_type": "code",
   "execution_count": 22,
   "metadata": {},
   "outputs": [],
   "source": [
    "pickle.dump(output_dictionary_reference_star01, open('ref01_in13_out20_ap6.p', 'wb'))\n",
    "pickle.dump(output_dictionary_reference_star02, open('ref02_in13_out20_ap6.p', 'wb'))\n",
    "pickle.dump(output_dictionary_reference_star03, open('ref03_in13_out20_ap6.p', 'wb'))\n",
    "pickle.dump(output_dictionary_reference_star04, open('ref04_in15_out22_ap6.p', 'wb'))"
   ]
  }
 ],
 "metadata": {
  "kernelspec": {
   "display_name": "base",
   "language": "python",
   "name": "python3"
  },
  "language_info": {
   "codemirror_mode": {
    "name": "ipython",
    "version": 3
   },
   "file_extension": ".py",
   "mimetype": "text/x-python",
   "name": "python",
   "nbconvert_exporter": "python",
   "pygments_lexer": "ipython3",
   "version": "3.11.7"
  }
 },
 "nbformat": 4,
 "nbformat_minor": 2
}

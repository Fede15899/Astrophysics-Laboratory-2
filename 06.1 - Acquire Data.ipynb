{
 "cells": [
  {
   "cell_type": "markdown",
   "metadata": {},
   "source": [
    "### Acquiring Data\n",
    "Now we can load the class and repeat the analysis with different combinations of partures and reference stars. We will save the output of the aperture photometry in a dictionary and save it as pickle file."
   ]
  },
  {
   "cell_type": "code",
   "execution_count": null,
   "metadata": {},
   "outputs": [],
   "source": [
    "from aperture_photometry import AperturePhotometry\n",
    "\n",
    "target_star = AperturePhotometry()\n",
    "target_star.aperture_photometry(13, 20, 7, 228, 33)\n",
    "\n",
    "reference_star01 = AperturePhotometry()\n",
    "reference_star01.aperture_photometry(13, 20, 7, 145, 20)\n",
    "\n",
    "reference_star02 = AperturePhotometry()\n",
    "reference_star02.aperture_photometry(13, 20, 7, 145, 20)\n",
    "\n",
    "reference_star03 = AperturePhotometry()\n",
    "reference_star03.aperture_photometry(13, 20, 7, 145, 20)\n",
    "\n",
    "reference_star04 = AperturePhotometry()\n",
    "reference_star04.aperture_photometry(13, 20, 7, 145, 20)\n"
   ]
  }
 ],
 "metadata": {
  "language_info": {
   "name": "python"
  }
 },
 "nbformat": 4,
 "nbformat_minor": 2
}

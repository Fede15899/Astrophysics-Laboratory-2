{
 "cells": [
  {
   "cell_type": "markdown",
   "metadata": {},
   "source": [
    "# Sky Backgound Subtraction and Aperture Photometry\n",
    "\n",
    "The first step is loading one scientific frame and the corresponding estimates of the associated error."
   ]
  },
  {
   "cell_type": "code",
   "execution_count": 4,
   "metadata": {},
   "outputs": [],
   "source": [
    "import numpy as np\n",
    "import matplotlib.pyplot as plt\n",
    "import matplotlib.colors as colors\n",
    "import pickle\n",
    "from astropy.io import fits\n",
    "%matplotlib widget\n",
    "\n",
    "science_list = np.genfromtxt('./group10_WASP-135_20190803/science/science.list', dtype=str)\n",
    "science_temp_list = science_list[:30]\n",
    "science_corrected = pickle.load(open('./group10_WASP-135_20190803/correct/' + science_temp_list[0][:-5] + '_corr.p', 'rb'))\n",
    "science_corrected_err = pickle.load(open('./group10_WASP-135_20190803/correct/' + science_temp_list[0][:-5] + '_corr_error.p', 'rb'))"
   ]
  },
  {
   "cell_type": "markdown",
   "metadata": {},
   "source": [
    "We now report here the coordinates of the target measured in the previous step of our analysis (see 04 - Centroid Measurement). We also prepare the meshgrid and the distance from the centre of our target"
   ]
  },
  {
   "cell_type": "code",
   "execution_count": 5,
   "metadata": {},
   "outputs": [],
   "source": [
    "# Refined  coordinates of the target\n",
    "x_target_refined = 228.66\n",
    "y_target_refined = 32.85\n",
    "\n",
    "# Computing again the meshgrid arrays \n",
    "ylen, xlen = np.shape(science_corrected)\n",
    "X_axis = np.arange(0, xlen, 1)\n",
    "Y_axis = np.arange(0, ylen, 1)\n",
    "X, Y = np.meshgrid(X_axis, Y_axis)\n",
    "\n",
    "# 2D array with the distance of each pixel from the target star \n",
    "target_distance = np.sqrt((X-x_target_refined)**2 + (Y-y_target_refined)**2)\n"
   ]
  },
  {
   "cell_type": "markdown",
   "metadata": {},
   "source": [
    "Now we define a function to draw a circle like we did in the previous step."
   ]
  },
  {
   "cell_type": "code",
   "execution_count": 6,
   "metadata": {},
   "outputs": [],
   "source": [
    "def make_circle_around_star(x_pos, y_pos, radius, thickness=0.5, label='', color='w', alpha=1.):\n",
    "\n",
    "    n, radii = 50, [radius, radius+thickness]\n",
    "    theta = np.linspace(0, 2*np.pi, n, endpoint=True)\n",
    "    xs = np.outer(radii, np.cos(theta))\n",
    "    ys = np.outer(radii, np.sin(theta))\n",
    "    \n",
    "    # in order to have a closed area, the circles\n",
    "    # should be traversed in opposite directions\n",
    "    xs[1,:] = xs[1,::-1]\n",
    "    ys[1,:] = ys[1,::-1]\n",
    "    \n",
    "    ax.fill(np.ravel(xs)+x_pos, np.ravel(ys)+y_pos, edgecolor=None, facecolor=color, alpha=alpha, label=label)"
   ]
  },
  {
   "cell_type": "markdown",
   "metadata": {},
   "source": [
    "### Computation of the sky background"
   ]
  },
  {
   "cell_type": "markdown",
   "metadata": {},
   "source": []
  }
 ],
 "metadata": {
  "kernelspec": {
   "display_name": "base",
   "language": "python",
   "name": "python3"
  },
  "language_info": {
   "codemirror_mode": {
    "name": "ipython",
    "version": 3
   },
   "file_extension": ".py",
   "mimetype": "text/x-python",
   "name": "python",
   "nbconvert_exporter": "python",
   "pygments_lexer": "ipython3",
   "version": "3.11.7"
  }
 },
 "nbformat": 4,
 "nbformat_minor": 2
}

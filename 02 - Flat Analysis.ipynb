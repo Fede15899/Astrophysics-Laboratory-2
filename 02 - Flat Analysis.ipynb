{
 "cells": [
  {
   "cell_type": "code",
   "execution_count": 1,
   "metadata": {},
   "outputs": [],
   "source": [
    "import numpy as np\n",
    "import matplotlib.pyplot as plt\n",
    "from astropy.io import fits\n",
    "import pickle\n",
    "%matplotlib widget"
   ]
  },
  {
   "cell_type": "markdown",
   "metadata": {},
   "source": [
    "We will focus on the flat analysis in this notebook so we have to upload the flat list we prepared in the first notebook."
   ]
  },
  {
   "cell_type": "code",
   "execution_count": 3,
   "metadata": {},
   "outputs": [],
   "source": [
    "flat_list = np.genfromtxt('./group10_WASP-135_20190803/flat/flat.list', dtype=str)\n",
    "#print(flat_list) #To check that it works correctly\n"
   ]
  },
  {
   "cell_type": "markdown",
   "metadata": {},
   "source": [
    "In the first lecture we computed the error associated with the bias and the readout noise obtained when analyzing the bias frames. We need to upload those values, as well as the gain.\n",
    "\n",
    "From last lecture:\n",
    "\n",
    "Julian date       : 2458699.475185 JD\n",
    "\n",
    "CCD Gain          : 1.91 [e/ADU] \n",
    "\n",
    "CCD Readout noise : 7.10 [e]\n",
    "\n",
    "We chose the value 1.33 for the bias_std because it's the one the fits the data better at the end of the first notebook"
   ]
  },
  {
   "cell_type": "code",
   "execution_count": null,
   "metadata": {},
   "outputs": [],
   "source": [
    "median_bias = pickle.load(open(\"median_bias.p\", \"rb\"))\n",
    "bias_std = 1.33 # [e] = photoelectrons\n",
    "readout_noise = 7.10 # [e] = photoelectrons\n",
    "gain = 1.91 #[e/ADU] from the header file"
   ]
  }
 ],
 "metadata": {
  "kernelspec": {
   "display_name": "base",
   "language": "python",
   "name": "python3"
  },
  "language_info": {
   "codemirror_mode": {
    "name": "ipython",
    "version": 3
   },
   "file_extension": ".py",
   "mimetype": "text/x-python",
   "name": "python",
   "nbconvert_exporter": "python",
   "pygments_lexer": "ipython3",
   "version": "3.11.7"
  }
 },
 "nbformat": 4,
 "nbformat_minor": 2
}

{
 "cells": [
  {
   "cell_type": "markdown",
   "metadata": {},
   "source": [
    "## Class Tutorial"
   ]
  },
  {
   "cell_type": "code",
   "execution_count": 21,
   "metadata": {},
   "outputs": [],
   "source": [
    "import numpy as np\n",
    "import matplotlib.pyplot as plt\n",
    "import matplotlib.colors as colors\n",
    "import pickle \n",
    "from astropy.io import fits\n",
    "%matplotlib widget"
   ]
  },
  {
   "cell_type": "markdown",
   "metadata": {},
   "source": [
    "We use a class to define several functions in a self-consistent way repeatedly and be able to use them in different notebooks without rewriting them."
   ]
  },
  {
   "cell_type": "markdown",
   "metadata": {},
   "source": [
    "### Class Objects\n",
    "Class objects support two kind of operations: *attribute references* and *instantiation*. **Attribute references** use the standard syntax in python (obj.name)."
   ]
  },
  {
   "cell_type": "code",
   "execution_count": 22,
   "metadata": {},
   "outputs": [
    {
     "name": "stdout",
     "output_type": "stream",
     "text": [
      "12345\n"
     ]
    },
    {
     "data": {
      "text/plain": [
       "'Hello World'"
      ]
     },
     "execution_count": 22,
     "metadata": {},
     "output_type": "execute_result"
    }
   ],
   "source": [
    "# Example:\n",
    "class MyClass:\n",
    "    \"\"\"A simple example class\"\"\"\n",
    "    internal_variable = 12345\n",
    "\n",
    "    def print_hello(self):\n",
    "        return 'Hello World'\n",
    "\n",
    "# To retrieve the value of the internal variable we use:\n",
    "print(MyClass.internal_variable)\n",
    "# To use the function of the class we use\n",
    "MyClass.print_hello(MyClass)"
   ]
  },
  {
   "cell_type": "markdown",
   "metadata": {},
   "source": [
    "The argument $\\texttt{self}$ of the class means that the function requires the class itself as an argument.\n",
    "\n",
    "**Class instantiation** uses function notation. We can create a new instance of the class and assign his object to a local variable."
   ]
  },
  {
   "cell_type": "code",
   "execution_count": 23,
   "metadata": {},
   "outputs": [
    {
     "name": "stdout",
     "output_type": "stream",
     "text": [
      "first_class internal variable value: 12345\n",
      "second_class internal variable value: 67890\n"
     ]
    }
   ],
   "source": [
    "first_class = MyClass()\n",
    "second_class = MyClass()\n",
    "# We have two objects of type MyClass with all the attributes and functions\n",
    "# of the original class but will work independently\n",
    "\n",
    "second_class.internal_variable = 67890\n",
    "print('first_class internal variable value:', first_class.internal_variable)\n",
    "print('second_class internal variable value:', second_class.internal_variable)"
   ]
  },
  {
   "cell_type": "markdown",
   "metadata": {},
   "source": [
    "A variable inside a class takes the name of **attribute** while functions are called **methods**. When calling a method of an instance object you don0t need to specify the self argument"
   ]
  },
  {
   "cell_type": "code",
   "execution_count": 24,
   "metadata": {},
   "outputs": [
    {
     "data": {
      "text/plain": [
       "'Hello World'"
      ]
     },
     "execution_count": 24,
     "metadata": {},
     "output_type": "execute_result"
    }
   ],
   "source": [
    "MyClass.print_hello(MyClass) #Here I need the self argument\n",
    "second_class.print_hello() #Here I don't need it, notice the difference"
   ]
  },
  {
   "cell_type": "markdown",
   "metadata": {},
   "source": [
    "### Class Initialization\n",
    "Classes support a special kind of method that is automatically called **every time** you create a new class instance. This inizialization method is defined by the name ```__init__```. When we create a new object using our class, the init method is automatically invoked. In the following example init requires two arguments other than the self one, so we have to provide them to avoid an error "
   ]
  },
  {
   "cell_type": "code",
   "execution_count": 25,
   "metadata": {},
   "outputs": [],
   "source": [
    "class MySecondClass:\n",
    "    def __init__(self, x_input, y_input):\n",
    "        self.x_pos = x_input\n",
    "        self.y_pos = y_input\n",
    "\n",
    "#new_class = MySecondClass() -> WRONG! No arguments\n",
    "new_class = MySecondClass(258, 76) # Correct"
   ]
  },
  {
   "cell_type": "markdown",
   "metadata": {},
   "source": [
    "If we change the class, we have to make a new instance, the previous one won't be updated."
   ]
  },
  {
   "cell_type": "code",
   "execution_count": 26,
   "metadata": {},
   "outputs": [
    {
     "name": "stdout",
     "output_type": "stream",
     "text": [
      "Attributes called from a class method 260 76\n",
      "attributes called from instance object: 258 76\n"
     ]
    }
   ],
   "source": [
    "class MySecondClass:\n",
    "    def __init__(self, x_input, y_input):\n",
    "        self.x_pos = x_input\n",
    "        self.y_pos = y_input\n",
    "\n",
    "    def print_position(self):\n",
    "        print('Attributes called from a class method', self.x_pos, self.y_pos)\n",
    "\n",
    "    def change_position(self, x_new, y_new):\n",
    "        self.x_pos = x_new\n",
    "        self.y_pos = y_new\n",
    "\n",
    "newest_class = MySecondClass(260, 76)\n",
    "newest_class.print_position()\n",
    "\n",
    "print('attributes called from instance object:', new_class.x_pos, new_class.y_pos)"
   ]
  },
  {
   "cell_type": "markdown",
   "metadata": {},
   "source": [
    "We can write a method to change one or more attributes. The method must get ```self``` as the argument, and the attributes to be changed must be referenced as ```self```"
   ]
  },
  {
   "cell_type": "code",
   "execution_count": 27,
   "metadata": {},
   "outputs": [
    {
     "name": "stdout",
     "output_type": "stream",
     "text": [
      "789 123\n"
     ]
    }
   ],
   "source": [
    "class MySecondClass:\n",
    "\n",
    "    def change_position(self, x_new, y_new):\n",
    "        self.x_pos = x_new\n",
    "        self.y_pos = y_new\n",
    "\n",
    "    \"\"\"def wrong_method(x_new, y_new):\n",
    "        x_pos = x_new\n",
    "        y_pos = y_new\"\"\"\n",
    "    \n",
    "    \"\"\"All the methods called after the change_position will use the updated\n",
    "    values for self.x_pos and self.y_pos\"\"\"\n",
    "\n",
    "new_class = MySecondClass()\n",
    "new_class.change_position(789, 123)\n",
    "print(new_class.x_pos, new_class.y_pos)"
   ]
  },
  {
   "cell_type": "markdown",
   "metadata": {},
   "source": [
    "## Aperture Photometry Class\n",
    "Let's make our class to perform aperture photometry with different apertures and on several stars effortlessly. The complete code will be exported in a .py file for further use.\n",
    "\n",
    "### Initialization\n",
    "As this is a work in progress, we will call our class ```TemporaryAperturePhotometry``` for now. We provide some constants that will be the same regardless of the star under analysis (given that we use the same frames).\n"
   ]
  },
  {
   "cell_type": "code",
   "execution_count": 28,
   "metadata": {},
   "outputs": [],
   "source": [
    "class TemporaryAperturePhotometry:\n",
    "    def __init__(self):\n",
    "        \n",
    "        self.data_path = './group10_WASP-135_20190803/'\n",
    "\n",
    "        # Constants from HEADER file\n",
    "        self.readout_noise = 7.10 # [e] photoelectrons\n",
    "        self.gain = 1.91 # [e] photoelectrons\n",
    "\n",
    "        # Computed in 01 - Bias Analysis.ipynb\n",
    "        self.bias_std = 1.33 # [e] = photoelectrons\n",
    "        self.median_bias = pickle.load(open('./median_bias.p', 'rb'))\n",
    "        self.median_bias_error_distribution = pickle.load(open('./median_bias_error.p', 'rb'))\n",
    "        # We chose to use the specific value in lecture 01\n",
    "        self.median_bias_error_value = pickle.load(open('./median_bias_error_value.p', 'rb'))\n",
    "\n",
    "        # Computed in 02 - Flat Analysis.ipynb\n",
    "        self.median_normalized_flat = pickle.load(open('./median_normalized_flat.p', 'rb'))\n",
    "        self.median_normalized_flat_error = pickle.load(open('./median_normalized_flat_errors.p'))\n",
    "\n",
    "        # Computed in 03 - Science Analysis.ipynb\n",
    "        self.science_path = self.data_path + 'science/'\n",
    "        self.science_list = np.genfromtxt(self.science_path + 'science.list', dtype = str)\n",
    "        self.science_size = len(self.science_list)\n",
    "\n"
   ]
  }
 ],
 "metadata": {
  "kernelspec": {
   "display_name": "base",
   "language": "python",
   "name": "python3"
  },
  "language_info": {
   "codemirror_mode": {
    "name": "ipython",
    "version": 3
   },
   "file_extension": ".py",
   "mimetype": "text/x-python",
   "name": "python",
   "nbconvert_exporter": "python",
   "pygments_lexer": "ipython3",
   "version": "3.11.7"
  }
 },
 "nbformat": 4,
 "nbformat_minor": 2
}

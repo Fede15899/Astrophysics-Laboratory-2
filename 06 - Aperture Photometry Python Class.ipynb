{
 "cells": [
  {
   "cell_type": "markdown",
   "metadata": {},
   "source": [
    "## Class Tutorial"
   ]
  },
  {
   "cell_type": "code",
   "execution_count": 1,
   "metadata": {},
   "outputs": [],
   "source": [
    "import numpy as np\n",
    "import matplotlib.pyplot as plt\n",
    "import matplotlib.colors as colors\n",
    "import pickle \n",
    "from astropy.io import fits\n",
    "%matplotlib widget"
   ]
  },
  {
   "cell_type": "markdown",
   "metadata": {},
   "source": [
    "We use a class to define several functions in a self-consistent way repeatedly and be able to use them in different notebooks without rewriting them."
   ]
  },
  {
   "cell_type": "markdown",
   "metadata": {},
   "source": [
    "### Class Objects\n",
    "Class objects support two kind of operations: *attribute references* and *instantiation*. **Attribute references** use the standard syntax in python (obj.name)."
   ]
  },
  {
   "cell_type": "code",
   "execution_count": 2,
   "metadata": {},
   "outputs": [
    {
     "name": "stdout",
     "output_type": "stream",
     "text": [
      "12345\n"
     ]
    },
    {
     "data": {
      "text/plain": [
       "'Hello World'"
      ]
     },
     "execution_count": 2,
     "metadata": {},
     "output_type": "execute_result"
    }
   ],
   "source": [
    "# Example:\n",
    "class MyClass:\n",
    "    \"\"\"A simple example class\"\"\"\n",
    "    internal_variable = 12345\n",
    "\n",
    "    def print_hello(self):\n",
    "        return 'Hello World'\n",
    "\n",
    "# To retrieve the value of the internal variable we use:\n",
    "print(MyClass.internal_variable)\n",
    "# To use the function of the class we use\n",
    "MyClass.print_hello(MyClass)"
   ]
  },
  {
   "cell_type": "markdown",
   "metadata": {},
   "source": [
    "The argument $\\texttt{self}$ of the class means that the function requires the class itself as an argument.\n",
    "\n",
    "**Class instantiation** uses function notation. We can create a new instance of the class and assign his object to a local variable."
   ]
  },
  {
   "cell_type": "code",
   "execution_count": 4,
   "metadata": {},
   "outputs": [
    {
     "name": "stdout",
     "output_type": "stream",
     "text": [
      "first_class internal variable value: 12345\n",
      "second_class internal variable value: 67890\n"
     ]
    }
   ],
   "source": [
    "first_class = MyClass()\n",
    "second_class = MyClass()\n",
    "# We have two objects of type MyClass with all the attributes and functions\n",
    "# of the original class but will work independently\n",
    "\n",
    "second_class.internal_variable = 67890\n",
    "print('first_class internal variable value:', first_class.internal_variable)\n",
    "print('second_class internal variable value:', second_class.internal_variable)"
   ]
  },
  {
   "cell_type": "markdown",
   "metadata": {},
   "source": [
    "A variable inside a class takes the name of **attribute** while functions are called **methods**. When calling a method of an instance object you don0t need to specify the self argument"
   ]
  },
  {
   "cell_type": "code",
   "execution_count": 8,
   "metadata": {},
   "outputs": [
    {
     "data": {
      "text/plain": [
       "'Hello World'"
      ]
     },
     "execution_count": 8,
     "metadata": {},
     "output_type": "execute_result"
    }
   ],
   "source": [
    "MyClass.print_hello(MyClass) #Here I need the self argument\n",
    "second_class.print_hello() #Here I don't need it, notice the difference"
   ]
  },
  {
   "cell_type": "markdown",
   "metadata": {},
   "source": [
    "### Class Initialization\n",
    "Classes support a special kind of method that is automatically called **every time** you create a new class instance. This inizialization method is defined by the name ```__init__```. When we create a new object using our class, the init method is automatically invoked. In the following example init requires two arguments other than the self one, so we have to provide them to avoid an error "
   ]
  },
  {
   "cell_type": "code",
   "execution_count": 9,
   "metadata": {},
   "outputs": [],
   "source": [
    "class MySecondClass:\n",
    "    def __init__(self, x_input, y_input):\n",
    "        self.x_pos = x_input\n",
    "        self.y_pos = y_input\n",
    "\n",
    "#new_class = MySecondClass() -> WRONG! No arguments\n",
    "new_class = MySecondClass(258, 76) # Correct"
   ]
  },
  {
   "cell_type": "markdown",
   "metadata": {},
   "source": [
    "If we change the class, we have to make a new instance, the previous one won't be updated."
   ]
  },
  {
   "cell_type": "code",
   "execution_count": null,
   "metadata": {},
   "outputs": [],
   "source": [
    "class MySecondClass:\n",
    "    def __init__(self, x_input, y_input):\n",
    "        self.x_pos = x_input\n",
    "        self.y_pos = y_input\n",
    "\n",
    "    def print_position(self):\n",
    "        print('Attributes called from a class method', self.x_pos, self.y_pos)\n",
    "\n",
    "    def change_position(self, x_new, y_new):\n",
    "        self.x_pos = x_new\n",
    "        self.y_pos = y_new\n"
   ]
  }
 ],
 "metadata": {
  "kernelspec": {
   "display_name": "base",
   "language": "python",
   "name": "python3"
  },
  "language_info": {
   "codemirror_mode": {
    "name": "ipython",
    "version": 3
   },
   "file_extension": ".py",
   "mimetype": "text/x-python",
   "name": "python",
   "nbconvert_exporter": "python",
   "pygments_lexer": "ipython3",
   "version": "3.11.7"
  }
 },
 "nbformat": 4,
 "nbformat_minor": 2
}

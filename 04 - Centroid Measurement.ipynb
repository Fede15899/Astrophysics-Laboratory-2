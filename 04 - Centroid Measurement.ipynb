{
 "cells": [
  {
   "cell_type": "markdown",
   "metadata": {},
   "source": [
    "# Centroid Measurement"
   ]
  },
  {
   "cell_type": "code",
   "execution_count": 1,
   "metadata": {},
   "outputs": [],
   "source": [
    "import numpy as np\n",
    "import matplotlib.pyplot as plt\n",
    "import matplotlib.colors as colors\n",
    "import pickle\n",
    "from astropy.io import fits\n",
    "%matplotlib widget"
   ]
  },
  {
   "cell_type": "markdown",
   "metadata": {},
   "source": [
    "The following script uploads the first science corrected frame"
   ]
  },
  {
   "cell_type": "code",
   "execution_count": null,
   "metadata": {},
   "outputs": [],
   "source": [
    "# Carico la lista dei file science\n",
    "science_list = np.genfromtxt('./group10_WASP-135_20190803/science/science.list', dtype=str)\n",
    "# Come per l'analisi fatta nella lezione precedente, carico solo i primi 30 frames.\n",
    "science_test_list = science_list[:30]\n",
    "# In questa variabile immagazzino il nome del primo corrected science frame.\n",
    "science_frame_name = './group10_WASP-135_20190803/correct/' + science_test_list[0][:-5] + '_corr.p'\n",
    "# Carico il file corrispondente a questo nome\n",
    "science_corrected = pickle.load(open(science_frame_name, 'rb'))"
   ]
  }
 ],
 "metadata": {
  "kernelspec": {
   "display_name": "base",
   "language": "python",
   "name": "python3"
  },
  "language_info": {
   "codemirror_mode": {
    "name": "ipython",
    "version": 3
   },
   "file_extension": ".py",
   "mimetype": "text/x-python",
   "name": "python",
   "nbconvert_exporter": "python",
   "pygments_lexer": "ipython3",
   "version": "3.11.7"
  }
 },
 "nbformat": 4,
 "nbformat_minor": 2
}
